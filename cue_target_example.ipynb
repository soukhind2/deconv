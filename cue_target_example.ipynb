{
  "nbformat": 4,
  "nbformat_minor": 0,
  "metadata": {
    "colab": {
      "provenance": [],
      "authorship_tag": "ABX9TyNeV/xOKujVy8sYgWkgvbP2",
      "include_colab_link": true
    },
    "kernelspec": {
      "name": "python3",
      "display_name": "Python 3"
    },
    "language_info": {
      "name": "python"
    }
  },
  "cells": [
    {
      "cell_type": "markdown",
      "metadata": {
        "id": "view-in-github",
        "colab_type": "text"
      },
      "source": [
        "<a href=\"https://colab.research.google.com/github/soukhind2/deconv/blob/master/cue_target_example.ipynb\" target=\"_parent\"><img src=\"https://colab.research.google.com/assets/colab-badge.svg\" alt=\"Open In Colab\"/></a>"
      ]
    },
    {
      "cell_type": "markdown",
      "source": [
        "# Alternating Event-Related fMRI Design Demonstration\n",
        "\n",
        "In this notebook, we model hypothetical design sequences that follow the order of alternating event-related sequences. \n",
        "\n",
        "Specifically, we model a simple cue-target paradigm that is used in experiments that investigate cognitive attention (Kastner 1999, Hopfinger 2000, Shomstein and Yantis 2006, Liu 2017).\n",
        "\n",
        "This code is part of the Python package *deconvolve*, available at: https://github.com/soukhind2/deconv"
      ],
      "metadata": {
        "id": "iGg419FciY-Z"
      }
    },
    {
      "cell_type": "markdown",
      "source": [
        "## Import necessary packages"
      ],
      "metadata": {
        "id": "aL6jx4j6ph3t"
      }
    },
    {
      "cell_type": "code",
      "execution_count": 1,
      "metadata": {
        "id": "Go4UCdqtLVvo"
      },
      "outputs": [],
      "source": [
        "import numpy as np\n",
        "from matplotlib import pyplot as plt"
      ]
    },
    {
      "cell_type": "markdown",
      "source": [
        "# Load plotting functions"
      ],
      "metadata": {
        "id": "m991IWqGpnHD"
      }
    },
    {
      "cell_type": "code",
      "source": [
        "def plot_stems(axes,data,color,markerfmt,text):\n",
        "  markerline, stemlines,_ = axes.stem(data,linefmt='grey', markerfmt=markerfmt) #plot stem lines\n",
        "  markerline.set_markerfacecolor(color) # set color of markers\n",
        "  markerline.set_markeredgecolor(color) # set color of markers\n",
        "  plt.setp(stemlines, 'linestyle', 'dotted') # set linestyle\n",
        "  plt.setp(stemlines, linewidth = 5) # set line width of stems\n",
        "  plt.setp(markerline, markersize = 15) # set marker sizes\n",
        "\n",
        "# annotate the stems with the type of event\n",
        "  for i,e in enumerate(data):\n",
        "    if e:\n",
        "      axes.text(i - 0.1,1.1,text,fontsize = 25)"
      ],
      "metadata": {
        "id": "BGlFdEFDZKNf"
      },
      "execution_count": 83,
      "outputs": []
    },
    {
      "cell_type": "markdown",
      "source": [
        "## Plot the stimulus trains for different cue-target designs\n",
        "\n",
        "Note that in these special alternating event paradigms, the order of events is fixed, i.e., the cue is always followed by its target in each and every case. For multiple cues and targets,  the pairs (of each cue and target) are tied in a similar fashion."
      ],
      "metadata": {
        "id": "MCjuTIsVq6eI"
      }
    },
    {
      "cell_type": "code",
      "source": [
        "# Stim train for cue (C)\n",
        "a1 = [1, 0 , 0 , 0, 1, 0 ,0 ,0 ,1 ,0 , 0, 1, 0, 0, 0, 1 , 0, 0, 0 ,1 , 0 , 0]\n",
        "# Stim train for target (T)\n",
        "a2 = [0, 0 , 1 , 0, 0, 1 ,0 ,0 ,0 ,1 , 0, 0, 0, 1, 0, 0 , 0, 1, 0 ,0 , 0 , 1]\n",
        "#Baseline stim train\n",
        "a3 = [0, 0 , 0 , 0, 0, 0, 0 ,0 ,0 ,0 ,0 , 0, 0, 0, 0, 0, 0, 0, 0 ,0 , 0 , 0]\n",
        "\n",
        "fig,ax = plt.subplots(ncols = 1,nrows = 2,figsize = (20,10))\n",
        "\n",
        "plot_stems(ax[0],a1,'coral','D','C') # Plot the cue stems\n",
        "plot_stems(ax[0],a2,'yellowgreen','o','T') # Plot the target stems\n",
        "plot_stems(ax[0],a3,'lightgray','D',' ') # Plot the baseline\n",
        "\n",
        "# Other plot annotations\n",
        "ax[0].set_ylim(0,1.3)\n",
        "ax[0].set_yticks([])\n",
        "ax[0].set_xticks([])\n",
        "#ax[0].set_xlabel('Time (s)',fontsize = 22)\n",
        "\n",
        "ax[0].spines['top'].set_visible(False)\n",
        "ax[0].spines['right'].set_visible(False)\n",
        "ax[0].spines['bottom'].set_linewidth(3)\n",
        "ax[0].spines['left'].set_visible(False)\n",
        "\n",
        "\n",
        "# For multiple cue-target pairs\n",
        "# Stim train for cue C1\n",
        "c1 = [1, 0 , 0 , 0, 0, 0 ,0 ,0 ,0 ,0 , 0, 0, 0, 0, 0, 1 , 0, 0, 0 ,0 , 0 , 0]\n",
        "# Stim train for cue C2\n",
        "c2 = [0, 0 , 0 , 0, 1, 0 ,0 ,0 ,0 ,0 , 0, 1, 0, 0, 0, 0 , 0, 0, 0 ,0 , 0 , 0]\n",
        "# Stim train for cue C3\n",
        "c3 = [0, 0 , 0 , 0, 0, 0 ,0 ,0 ,1 ,0 , 0, 0, 0, 0, 0, 0 , 0, 0, 0 ,0 , 1 , 0]\n",
        "# Stim train for target T1\n",
        "t1 = [0, 1 , 0 , 0, 0, 0 ,0 ,0 ,0 ,0 , 0, 0, 0, 0, 0, 0 , 0, 1, 0 ,0 , 0 , 0]\n",
        "# Stim train for target T2\n",
        "t2 = [0, 0 , 0 , 0, 0, 0, 1 ,0 ,0 ,0 ,0 , 0, 1, 0, 0, 0, 0, 0, 0 ,0 , 0 , 0]\n",
        "# Stim train for target T3\n",
        "t3 = [0, 0 , 0 , 0, 0, 0, 0 ,0 ,0 ,1 ,0 , 0, 0, 0, 0, 0, 0, 0, 0 ,0 , 0 , 1]\n",
        "\n",
        "plot_stems(ax[1],c1,'salmon','D','C1') # Plot cue 1 stems\n",
        "plot_stems(ax[1],c2,'tomato','D','C2') # Plot cue 2 stems\n",
        "plot_stems(ax[1],c3,'chocolate','D','C3') # Plot cue 3 stems\n",
        "\n",
        "plot_stems(ax[1],t1,'yellowgreen','o','T1') # Plot target 1 stems\n",
        "plot_stems(ax[1],t2,'lawngreen','o','T2') # Plot target 2 stems\n",
        "plot_stems(ax[1],t3,'limegreen','o','T3') # Plot target 3 stems\n",
        "\n",
        "plot_stems(ax[1],a3,'lightgray','D',' ') # Plot the baseline\n",
        "\n",
        "# Other plot annotations\n",
        "ax[1].set_ylim(0,1.3)\n",
        "ax[1].set_yticks([])\n",
        "ax[1].set_xticks([])\n",
        "ax[1].set_xlabel('Time (s)',fontsize = 22)\n",
        "\n",
        "ax[1].spines['top'].set_visible(False)\n",
        "ax[1].spines['right'].set_visible(False)\n",
        "ax[1].spines['bottom'].set_linewidth(3)\n",
        "ax[1].spines['left'].set_visible(False)\n",
        "\n",
        "# Save figures\n",
        "fig.savefig('cue_target_example.png',bbox_inches = 'tight',dpi = 300)\n",
        "fig.savefig('cue_target_example.jpg',bbox_inches = 'tight',dpi = 300)"
      ],
      "metadata": {
        "colab": {
          "base_uri": "https://localhost:8080/",
          "height": 602
        },
        "id": "P2CK_wDjLb5N",
        "outputId": "590d9651-a485-4d43-ed4f-8f6b311e06b2"
      },
      "execution_count": 104,
      "outputs": [
        {
          "output_type": "display_data",
          "data": {
            "text/plain": [
              "<Figure size 1440x720 with 2 Axes>"
            ],
            "image/png": "[encoded data removed]"
          },
          "metadata": {}
        }
      ]
    }
  ]
}